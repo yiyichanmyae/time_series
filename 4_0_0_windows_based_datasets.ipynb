{
  "nbformat": 4,
  "nbformat_minor": 0,
  "metadata": {
    "colab": {
      "provenance": [],
      "authorship_tag": "ABX9TyMPJ76wYm0XAv0oLJ4GxhSr",
      "include_colab_link": true
    },
    "kernelspec": {
      "name": "python3",
      "display_name": "Python 3"
    },
    "language_info": {
      "name": "python"
    }
  },
  "cells": [
    {
      "cell_type": "markdown",
      "metadata": {
        "id": "view-in-github",
        "colab_type": "text"
      },
      "source": [
        "<a href=\"https://colab.research.google.com/github/yiyichanmyae/time_series/blob/main/4_0_0_windows_based_datasets.ipynb\" target=\"_parent\"><img src=\"https://colab.research.google.com/assets/colab-badge.svg\" alt=\"Open In Colab\"/></a>"
      ]
    },
    {
      "cell_type": "code",
      "execution_count": 1,
      "metadata": {
        "colab": {
          "base_uri": "https://localhost:8080/"
        },
        "id": "54sOqxdpiThb",
        "outputId": "2561bc49-4a21-4171-fcca-fc295f5515fa"
      },
      "outputs": [
        {
          "output_type": "stream",
          "name": "stdout",
          "text": [
            "Colab only includes TensorFlow 2.x; %tensorflow_version has no effect.\n"
          ]
        }
      ],
      "source": [
        "try:\n",
        "  %tensorflow_version 2.x\n",
        "except Exception:\n",
        "  pass"
      ]
    },
    {
      "cell_type": "code",
      "source": [
        "import tensorflow as tf\n",
        "import numpy as np\n",
        "import matplotlib.pyplot as plt\n",
        "print(tf.__version__)"
      ],
      "metadata": {
        "colab": {
          "base_uri": "https://localhost:8080/"
        },
        "id": "kHPydWAXlQ-H",
        "outputId": "74f3b5e5-273a-4a12-9a6b-197887e656e8"
      },
      "execution_count": 2,
      "outputs": [
        {
          "output_type": "stream",
          "name": "stdout",
          "text": [
            "2.12.0\n"
          ]
        }
      ]
    },
    {
      "cell_type": "code",
      "source": [
        "dataset_size = 10\n",
        "\n",
        "window_size = 5\n",
        "shift = 1\n",
        "drop_remainder = True\n",
        "batch_size = 5"
      ],
      "metadata": {
        "id": "n8HJsUU8n5s1"
      },
      "execution_count": 50,
      "outputs": []
    },
    {
      "cell_type": "markdown",
      "source": [
        "### window"
      ],
      "metadata": {
        "id": "NuJXHvLJwIGY"
      }
    },
    {
      "cell_type": "code",
      "source": [
        "dataset = tf.data.Dataset.range(dataset_size)\n",
        "dataset = dataset.window(size=window_size, shift = shift, drop_remainder=False)\n",
        "for window_dataset in dataset:\n",
        "  print([item.numpy() for item in window_dataset])"
      ],
      "metadata": {
        "colab": {
          "base_uri": "https://localhost:8080/"
        },
        "id": "6sgPaBbGls4Y",
        "outputId": "2a9e7e51-639e-4c9e-accb-ab498d0928de"
      },
      "execution_count": 51,
      "outputs": [
        {
          "output_type": "stream",
          "name": "stdout",
          "text": [
            "[0, 1, 2, 3, 4]\n",
            "[1, 2, 3, 4, 5]\n",
            "[2, 3, 4, 5, 6]\n",
            "[3, 4, 5, 6, 7]\n",
            "[4, 5, 6, 7, 8]\n",
            "[5, 6, 7, 8, 9]\n",
            "[6, 7, 8, 9]\n",
            "[7, 8, 9]\n",
            "[8, 9]\n",
            "[9]\n"
          ]
        }
      ]
    },
    {
      "cell_type": "code",
      "source": [
        "dataset = tf.data.Dataset.range(dataset_size)\n",
        "dataset = dataset.window(window_size, shift = shift, drop_remainder=True)\n",
        "for window_dataset in dataset:\n",
        "  print([item.numpy() for item in window_dataset])"
      ],
      "metadata": {
        "colab": {
          "base_uri": "https://localhost:8080/"
        },
        "id": "NENuD4gavapi",
        "outputId": "1777fc41-c192-4e2b-c736-0a1bc9814266"
      },
      "execution_count": 52,
      "outputs": [
        {
          "output_type": "stream",
          "name": "stdout",
          "text": [
            "[0, 1, 2, 3, 4]\n",
            "[1, 2, 3, 4, 5]\n",
            "[2, 3, 4, 5, 6]\n",
            "[3, 4, 5, 6, 7]\n",
            "[4, 5, 6, 7, 8]\n",
            "[5, 6, 7, 8, 9]\n"
          ]
        }
      ]
    },
    {
      "cell_type": "markdown",
      "source": [
        "### window batch"
      ],
      "metadata": {
        "id": "1ViSaa55wC2Z"
      }
    },
    {
      "cell_type": "code",
      "source": [
        "dataset = tf.data.Dataset.range(dataset_size)\n",
        "dataset = dataset.window(window_size, shift = shift, drop_remainder=False)\n",
        "\n",
        "dataset = dataset.flat_map(lambda window: window.batch(batch_size))\n",
        "for window in dataset:\n",
        "  print([element.numpy() for element in window])"
      ],
      "metadata": {
        "colab": {
          "base_uri": "https://localhost:8080/"
        },
        "id": "Re1mlndYmuAG",
        "outputId": "cf283e91-1c98-4ed8-a4e9-d5e66bdefed1"
      },
      "execution_count": 53,
      "outputs": [
        {
          "output_type": "stream",
          "name": "stdout",
          "text": [
            "[0, 1, 2, 3, 4]\n",
            "[1, 2, 3, 4, 5]\n",
            "[2, 3, 4, 5, 6]\n",
            "[3, 4, 5, 6, 7]\n",
            "[4, 5, 6, 7, 8]\n",
            "[5, 6, 7, 8, 9]\n",
            "[6, 7, 8, 9]\n",
            "[7, 8, 9]\n",
            "[8, 9]\n",
            "[9]\n"
          ]
        }
      ]
    },
    {
      "cell_type": "code",
      "source": [
        "dataset = tf.data.Dataset.range(dataset_size)\n",
        "dataset = dataset.window(size=window_size, shift=shift, drop_remainder=True)\n",
        "\n",
        "dataset = dataset.flat_map(lambda window: window.batch(batch_size))\n",
        "for window in dataset:\n",
        "  print([item.numpy() for item in window])"
      ],
      "metadata": {
        "colab": {
          "base_uri": "https://localhost:8080/"
        },
        "id": "kE-IFo9Ftucm",
        "outputId": "b94e7535-2515-4a0b-9de8-c480cfc09438"
      },
      "execution_count": 54,
      "outputs": [
        {
          "output_type": "stream",
          "name": "stdout",
          "text": [
            "[0, 1, 2, 3, 4]\n",
            "[1, 2, 3, 4, 5]\n",
            "[2, 3, 4, 5, 6]\n",
            "[3, 4, 5, 6, 7]\n",
            "[4, 5, 6, 7, 8]\n",
            "[5, 6, 7, 8, 9]\n"
          ]
        }
      ]
    },
    {
      "cell_type": "markdown",
      "source": [
        "### Group into labels and windows"
      ],
      "metadata": {
        "id": "MeayQYWFxezo"
      }
    },
    {
      "cell_type": "code",
      "source": [
        "dataset = tf.data.Dataset.range(dataset_size)\n",
        "dataset = dataset.window(size=window_size, shift=shift, drop_remainder=True)\n",
        "dataset = dataset.flat_map(lambda window: window.batch(batch_size))\n",
        "\n",
        "dataset = dataset.map(lambda window: (window[:-1], window[-1]))\n",
        "\n",
        "for window_x, y in dataset:\n",
        "  print(window_x.numpy())\n",
        "  print(y.numpy())"
      ],
      "metadata": {
        "colab": {
          "base_uri": "https://localhost:8080/"
        },
        "id": "XGOFTbqtwt93",
        "outputId": "71870acb-6176-45f4-f21d-eca4f371cae8"
      },
      "execution_count": 65,
      "outputs": [
        {
          "output_type": "stream",
          "name": "stdout",
          "text": [
            "[0 1 2 3]\n",
            "4\n",
            "[1 2 3 4]\n",
            "5\n",
            "[2 3 4 5]\n",
            "6\n",
            "[3 4 5 6]\n",
            "7\n",
            "[4 5 6 7]\n",
            "8\n",
            "[5 6 7 8]\n",
            "9\n"
          ]
        }
      ]
    },
    {
      "cell_type": "markdown",
      "source": [
        "### shuffle"
      ],
      "metadata": {
        "id": "N_OlbSFFzBOR"
      }
    },
    {
      "cell_type": "code",
      "source": [
        "dataset = tf.data.Dataset.range(dataset_size)\n",
        "dataset = dataset.window(size=window_size, shift=shift, drop_remainder=True)\n",
        "dataset = dataset.flat_map(lambda window: window.batch(batch_size))\n",
        "dataset = dataset.map(lambda window: (window[:-1], window[-1]))\n",
        "\n",
        "dataset = dataset.shuffle(buffer_size=dataset_size+5)\n",
        "\n",
        "for window_x, y in dataset:\n",
        "  print(window_x.numpy())\n",
        "  print(y.numpy())"
      ],
      "metadata": {
        "colab": {
          "base_uri": "https://localhost:8080/"
        },
        "id": "pbpzN1CjxxHG",
        "outputId": "dac6ae82-0f58-41e7-df1e-1d8dab7a33fb"
      },
      "execution_count": 69,
      "outputs": [
        {
          "output_type": "stream",
          "name": "stdout",
          "text": [
            "[0 1 2 3]\n",
            "4\n",
            "[4 5 6 7]\n",
            "8\n",
            "[1 2 3 4]\n",
            "5\n",
            "[3 4 5 6]\n",
            "7\n",
            "[5 6 7 8]\n",
            "9\n",
            "[2 3 4 5]\n",
            "6\n"
          ]
        }
      ]
    },
    {
      "cell_type": "markdown",
      "source": [
        "### training batch"
      ],
      "metadata": {
        "id": "4EOJLtRr2Rd9"
      }
    },
    {
      "cell_type": "code",
      "source": [
        "dataset = tf.data.Dataset.range(dataset_size)\n",
        "dataset = dataset.window(size=window_size, shift=shift, drop_remainder=True)\n",
        "dataset = dataset.flat_map(lambda window: window.batch(batch_size))\n",
        "dataset = dataset.map(lambda window: (window[:-1], window[-1]))\n",
        "dataset = dataset.shuffle(buffer_size=dataset_size+5)\n",
        "\n",
        "dataset = dataset.batch(2).prefetch(1)\n",
        "\n",
        "for window_x, y in dataset:\n",
        "  print(window_x.numpy())\n",
        "  print(y.numpy())"
      ],
      "metadata": {
        "colab": {
          "base_uri": "https://localhost:8080/"
        },
        "id": "QEsLmiNm1r6C",
        "outputId": "a28a2fbf-a8fd-4412-9259-9c52994c2b3e"
      },
      "execution_count": 72,
      "outputs": [
        {
          "output_type": "stream",
          "name": "stdout",
          "text": [
            "[[0 1 2 3]\n",
            " [2 3 4 5]]\n",
            "[4 6]\n",
            "[[5 6 7 8]\n",
            " [3 4 5 6]]\n",
            "[9 7]\n",
            "[[1 2 3 4]\n",
            " [4 5 6 7]]\n",
            "[5 8]\n"
          ]
        }
      ]
    },
    {
      "cell_type": "code",
      "source": [
        "dataset = tf.data.Dataset.range(dataset_size)\n",
        "dataset = dataset.window(size=window_size, shift=shift, drop_remainder=True)\n",
        "dataset = dataset.flat_map(lambda window: window.batch(batch_size))\n",
        "dataset = dataset.map(lambda window: (window[:-1], window[-1]))\n",
        "dataset = dataset.shuffle(buffer_size=dataset_size+5)\n",
        "\n",
        "dataset = dataset.batch(3).prefetch(1)\n",
        "\n",
        "for window_x, y in dataset:\n",
        "  print(window_x.numpy())\n",
        "  print(y.numpy())"
      ],
      "metadata": {
        "colab": {
          "base_uri": "https://localhost:8080/"
        },
        "id": "qY6dp0KC2g1K",
        "outputId": "826449f7-ff8c-449c-c56f-7478947a9818"
      },
      "execution_count": 73,
      "outputs": [
        {
          "output_type": "stream",
          "name": "stdout",
          "text": [
            "[[5 6 7 8]\n",
            " [0 1 2 3]\n",
            " [3 4 5 6]]\n",
            "[9 4 7]\n",
            "[[4 5 6 7]\n",
            " [2 3 4 5]\n",
            " [1 2 3 4]]\n",
            "[8 6 5]\n"
          ]
        }
      ]
    },
    {
      "cell_type": "code",
      "source": [
        "dataset = tf.data.Dataset.range(dataset_size)\n",
        "dataset = dataset.window(size=window_size, shift=shift, drop_remainder=True)\n",
        "dataset = dataset.flat_map(lambda window: window.batch(batch_size))\n",
        "dataset = dataset.map(lambda window: (window[:-1], window[-1]))\n",
        "dataset = dataset.shuffle(buffer_size=dataset_size+5)\n",
        "\n",
        "dataset = dataset.batch(5).prefetch(1)\n",
        "\n",
        "for window_x, y in dataset:\n",
        "  print(window_x.numpy())\n",
        "  print(y.numpy())"
      ],
      "metadata": {
        "colab": {
          "base_uri": "https://localhost:8080/"
        },
        "id": "YBaxOkLE3GQh",
        "outputId": "aa848f50-1bc4-4bed-acdf-7547a0c0e591"
      },
      "execution_count": 74,
      "outputs": [
        {
          "output_type": "stream",
          "name": "stdout",
          "text": [
            "[[3 4 5 6]\n",
            " [5 6 7 8]\n",
            " [1 2 3 4]\n",
            " [0 1 2 3]\n",
            " [4 5 6 7]]\n",
            "[7 9 5 4 8]\n",
            "[[2 3 4 5]]\n",
            "[6]\n"
          ]
        }
      ]
    },
    {
      "cell_type": "code",
      "source": [],
      "metadata": {
        "id": "DDqToGBM3I5A"
      },
      "execution_count": null,
      "outputs": []
    }
  ]
}